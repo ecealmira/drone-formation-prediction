{
 "cells": [
  {
   "cell_type": "code",
   "execution_count": 1,
   "id": "9d0f5ed2",
   "metadata": {},
   "outputs": [],
   "source": [
    "import nltk\n",
    "import pandas as pd\n",
    "from nltk.corpus import stopwords\n",
    "import random\n",
    "import pickle\n",
    "from nltk.tokenize import word_tokenize\n",
    "from nltk.classify.scikitlearn import SklearnClassifier\n",
    "from sklearn.naive_bayes import MultinomialNB, BernoulliNB\n",
    "from sklearn.linear_model import LogisticRegression, SGDClassifier\n",
    "from sklearn.svm import LinearSVC, NuSVC\n",
    "from nltk.classify import ClassifierI\n",
    "from statistics import mode\n",
    "import re\n",
    "\n",
    "from zemberek import (\n",
    "    TurkishSpellChecker,\n",
    "    TurkishSentenceNormalizer,\n",
    "    TurkishSentenceExtractor,\n",
    "    TurkishMorphology,\n",
    "    TurkishTokenizer\n",
    ")"
   ]
  },
  {
   "cell_type": "code",
   "execution_count": 2,
   "id": "a04854bd",
   "metadata": {},
   "outputs": [
    {
     "data": {
      "text/html": [
       "<div>\n",
       "<style scoped>\n",
       "    .dataframe tbody tr th:only-of-type {\n",
       "        vertical-align: middle;\n",
       "    }\n",
       "\n",
       "    .dataframe tbody tr th {\n",
       "        vertical-align: top;\n",
       "    }\n",
       "\n",
       "    .dataframe thead th {\n",
       "        text-align: right;\n",
       "    }\n",
       "</style>\n",
       "<table border=\"1\" class=\"dataframe\">\n",
       "  <thead>\n",
       "    <tr style=\"text-align: right;\">\n",
       "      <th></th>\n",
       "      <th>Text</th>\n",
       "      <th>Label</th>\n",
       "    </tr>\n",
       "  </thead>\n",
       "  <tbody>\n",
       "    <tr>\n",
       "      <th>0</th>\n",
       "      <td>Çizgi formasyonunu yap</td>\n",
       "      <td>Çizgi</td>\n",
       "    </tr>\n",
       "    <tr>\n",
       "      <th>1</th>\n",
       "      <td>çizgi formasyonu oluştur</td>\n",
       "      <td>Çizgi</td>\n",
       "    </tr>\n",
       "    <tr>\n",
       "      <th>2</th>\n",
       "      <td>İHA'ları kullanarak bir çizgi çiz.</td>\n",
       "      <td>Çizgi</td>\n",
       "    </tr>\n",
       "    <tr>\n",
       "      <th>3</th>\n",
       "      <td>Bir çizgi çiz</td>\n",
       "      <td>Çizgi</td>\n",
       "    </tr>\n",
       "    <tr>\n",
       "      <th>4</th>\n",
       "      <td>Cizgi ciz.</td>\n",
       "      <td>Çizgi</td>\n",
       "    </tr>\n",
       "    <tr>\n",
       "      <th>...</th>\n",
       "      <td>...</td>\n",
       "      <td>...</td>\n",
       "    </tr>\n",
       "    <tr>\n",
       "      <th>562</th>\n",
       "      <td>valleybol oynayınıverin</td>\n",
       "      <td>voleybol</td>\n",
       "    </tr>\n",
       "    <tr>\n",
       "      <th>563</th>\n",
       "      <td>toplanın maç zamanı</td>\n",
       "      <td>voleybol</td>\n",
       "    </tr>\n",
       "    <tr>\n",
       "      <th>564</th>\n",
       "      <td>Voleybol oynamanız lazım acil</td>\n",
       "      <td>voleybol</td>\n",
       "    </tr>\n",
       "    <tr>\n",
       "      <th>565</th>\n",
       "      <td>Hadi boleybol oynayalım çocuklar</td>\n",
       "      <td>voleybol</td>\n",
       "    </tr>\n",
       "    <tr>\n",
       "      <th>566</th>\n",
       "      <td>Voleybol oynar gibi hareket et</td>\n",
       "      <td>voleybol</td>\n",
       "    </tr>\n",
       "  </tbody>\n",
       "</table>\n",
       "<p>567 rows × 2 columns</p>\n",
       "</div>"
      ],
      "text/plain": [
       "                                   Text     Label\n",
       "0                Çizgi formasyonunu yap     Çizgi\n",
       "1              çizgi formasyonu oluştur     Çizgi\n",
       "2    İHA'ları kullanarak bir çizgi çiz.     Çizgi\n",
       "3                         Bir çizgi çiz     Çizgi\n",
       "4                            Cizgi ciz.     Çizgi\n",
       "..                                  ...       ...\n",
       "562             valleybol oynayınıverin  voleybol\n",
       "563                 toplanın maç zamanı  voleybol\n",
       "564       Voleybol oynamanız lazım acil  voleybol\n",
       "565    Hadi boleybol oynayalım çocuklar  voleybol\n",
       "566      Voleybol oynar gibi hareket et  voleybol\n",
       "\n",
       "[567 rows x 2 columns]"
      ]
     },
     "execution_count": 2,
     "metadata": {},
     "output_type": "execute_result"
    }
   ],
   "source": [
    "df = pd.read_excel('formasyon_veri_yanitlari.xlsx')\n",
    "df = df.drop(df.columns[[0,1]], axis=1)\n",
    "\n",
    "text_label_list = []\n",
    "sentences = []\n",
    "for column in df.columns:\n",
    "    label = column.split('-')[0]\n",
    "    \n",
    "    for sentence in df[column]:\n",
    "        sentences.append(sentence)\n",
    "        text_label_list.append((sentence, label))   \n",
    "\n",
    "text_label_df = pd.DataFrame(text_label_list, columns =['Text', 'Label'])\n",
    "text_label_df"
   ]
  },
  {
   "cell_type": "code",
   "execution_count": 3,
   "id": "3920c178",
   "metadata": {},
   "outputs": [
    {
     "name": "stdout",
     "output_type": "stream",
     "text": [
      "2025-01-02 00:57:20,210 - zemberek.morphology.turkish_morphology - INFO\n",
      "Msg: TurkishMorphology instance initialized in 9.117685794830322\n",
      "\n"
     ]
    }
   ],
   "source": [
    "random.shuffle(sentences)\n",
    "morphology = TurkishMorphology.create_with_defaults()\n",
    "all_words = []\n",
    "normalizer = TurkishSentenceNormalizer(morphology)\n",
    "\n",
    "\n",
    "for sentence in sentences:\n",
    "    sentence = normalizer.normalize(sentence)\n",
    "    words = nltk.word_tokenize(sentence)\n",
    "    for word in words:\n",
    "        if word.isalpha():\n",
    "            all_words.append(word.lower())"
   ]
  },
  {
   "cell_type": "code",
   "execution_count": 4,
   "id": "ba611c17",
   "metadata": {},
   "outputs": [],
   "source": [
    "stop_words = set(stopwords.words(\"turkish\"))\n",
    "filter_sentence = []\n",
    "\n",
    "for word in all_words:\n",
    "    if word not in stop_words:\n",
    "        filter_sentence.append(word)\n",
    "        \n",
    "all_words = filter_sentence"
   ]
  },
  {
   "cell_type": "code",
   "execution_count": 5,
   "id": "26fa23ee",
   "metadata": {},
   "outputs": [
    {
     "name": "stdout",
     "output_type": "stream",
     "text": [
      "Most common 15 words:\n",
      "v: 130\n",
      "voleybol: 101\n",
      "üçgen: 89\n",
      "oluştur: 76\n",
      "ok: 75\n",
      "çizgi: 72\n",
      "başı: 56\n",
      "bir: 51\n",
      "formasyonunu: 50\n",
      "formasyonu: 48\n",
      "drönelar: 43\n",
      "yap: 41\n",
      "çiz: 41\n",
      "ters: 28\n",
      "şeklinde: 26\n",
      "\n",
      "Number of times cizgi is used:0\n",
      "Number of times çizgi is used:72\n"
     ]
    }
   ],
   "source": [
    "all_words_dist = nltk.FreqDist(all_words)\n",
    "most_common_words = '\\n'.join([f\"{word}: {freq}\" for word, freq in all_words_dist.most_common(15)])\n",
    "print(f\"Most common 15 words:\\n{most_common_words}\\n\")\n",
    "\n",
    "print(f\"Number of times cizgi is used:{all_words_dist['cizgi']}\")\n",
    "print(f\"Number of times çizgi is used:{all_words_dist['çizgi']}\")"
   ]
  },
  {
   "cell_type": "code",
   "execution_count": 6,
   "id": "869313f7",
   "metadata": {},
   "outputs": [],
   "source": [
    "word_features = list(all_words_dist.keys())[:200]\n",
    "\n",
    "def find_features(document):\n",
    "    words = set(nltk.word_tokenize(document.lower()))\n",
    "    features = {}\n",
    "    for w in word_features:\n",
    "        features[w] = (w in words)\n",
    "    return features\n",
    "\n",
    "\n",
    "feature_sets = [(find_features(text), label) for (text, label) in text_label_list]\n",
    "\n",
    "train_size = int(0.8 * len(feature_sets))  # 80% \n",
    "training_set = feature_sets[:train_size]\n",
    "testing_set = feature_sets[train_size:]\n"
   ]
  },
  {
   "cell_type": "code",
   "execution_count": 7,
   "id": "f8533c91",
   "metadata": {},
   "outputs": [
    {
     "name": "stdout",
     "output_type": "stream",
     "text": [
      "Naive Bayes Algorithm accuracy percent: 75.43859649122807\n",
      "Most Informative Features\n",
      "                      ok = True           Ok baş : V      =     48.3 : 1.0\n",
      "                   üçgen = True            Üçgen : V      =     32.6 : 1.0\n",
      "                       v = False           Çizgi : V      =     14.5 : 1.0\n",
      "            formasyonuna = True           voleyb : Üçgen  =     11.6 : 1.0\n",
      "                     geç = True           voleyb : Üçgen  =      8.3 : 1.0\n",
      "                     bir = True            Çizgi : V      =      8.2 : 1.0\n",
      "                     yap = True           voleyb : Çizgi  =      5.0 : 1.0\n",
      "                   ettir = True           voleyb : Çizgi  =      5.0 : 1.0\n",
      "            gerçekleştir = True           voleyb : Ok baş =      5.0 : 1.0\n",
      "                   geçiş = True           voleyb : Ok baş =      5.0 : 1.0\n",
      "                 şekline = True           voleyb : V      =      5.0 : 1.0\n",
      "                voleybol = False          Ok baş : voleyb =      4.9 : 1.0\n",
      "                   üçgen = False          Ok baş : Üçgen  =      3.9 : 1.0\n",
      "            formasyonunu = True            Üçgen : Çizgi  =      3.9 : 1.0\n",
      "               formasyon = True            Çizgi : Üçgen  =      3.7 : 1.0\n"
     ]
    }
   ],
   "source": [
    "NBclassifier = nltk.NaiveBayesClassifier.train(training_set)\n",
    "\n",
    "print(\"Naive Bayes Algorithm accuracy percent:\", (nltk.classify.accuracy(NBclassifier, testing_set))*100)\n",
    "NBclassifier.show_most_informative_features(15)"
   ]
  },
  {
   "cell_type": "code",
   "execution_count": 8,
   "id": "5e815be1",
   "metadata": {},
   "outputs": [
    {
     "name": "stdout",
     "output_type": "stream",
     "text": [
      "MNB Classifier accuracy percent: 71.05263157894737\n"
     ]
    }
   ],
   "source": [
    "MNB_classifier = SklearnClassifier(MultinomialNB())\n",
    "MNB_classifier.train(training_set)\n",
    "print(\"MNB Classifier accuracy percent:\", (nltk.classify.accuracy(MNB_classifier, testing_set))*100)"
   ]
  },
  {
   "cell_type": "code",
   "execution_count": 9,
   "id": "82dd8bde",
   "metadata": {},
   "outputs": [
    {
     "name": "stdout",
     "output_type": "stream",
     "text": [
      "BernoulliNB Classifier accuracy percent: 15.789473684210526\n"
     ]
    }
   ],
   "source": [
    "BernoulliNB_classifier = SklearnClassifier(BernoulliNB())\n",
    "BernoulliNB_classifier.train(training_set)\n",
    "print(\"BernoulliNB Classifier accuracy percent:\", (nltk.classify.accuracy(BernoulliNB_classifier, testing_set))*100)"
   ]
  },
  {
   "cell_type": "code",
   "execution_count": 10,
   "id": "3911dbb2",
   "metadata": {},
   "outputs": [
    {
     "name": "stdout",
     "output_type": "stream",
     "text": [
      "SGDClassifier_classifier accuracy percent: 75.43859649122807\n"
     ]
    }
   ],
   "source": [
    "SGDClassifier_classifier = SklearnClassifier(SGDClassifier())\n",
    "SGDClassifier_classifier.train(training_set)\n",
    "print(\"SGDClassifier_classifier accuracy percent:\", (nltk.classify.accuracy(SGDClassifier_classifier, testing_set))*100)"
   ]
  },
  {
   "cell_type": "code",
   "execution_count": 115,
   "id": "6dd3783d",
   "metadata": {},
   "outputs": [
    {
     "name": "stdout",
     "output_type": "stream",
     "text": [
      "LogisticRegression_classifier accuracy percent: 69.2982456140351\n"
     ]
    }
   ],
   "source": [
    "LogisticRegression_classifier = SklearnClassifier(LogisticRegression())\n",
    "LogisticRegression_classifier.train(training_set)\n",
    "print(\"LogisticRegression_classifier accuracy percent:\", (nltk.classify.accuracy(LogisticRegression_classifier, testing_set))*100)"
   ]
  },
  {
   "cell_type": "code",
   "execution_count": 116,
   "id": "d58b8c7e",
   "metadata": {},
   "outputs": [
    {
     "name": "stdout",
     "output_type": "stream",
     "text": [
      "LinearSVC_classifier accuracy percent: 74.56140350877193\n"
     ]
    }
   ],
   "source": [
    "LinearSVC_classifier = SklearnClassifier(LinearSVC(dual=True))\n",
    "LinearSVC_classifier.train(training_set)\n",
    "print(\"LinearSVC_classifier accuracy percent:\", (nltk.classify.accuracy(LinearSVC_classifier, testing_set))*100)"
   ]
  },
  {
   "cell_type": "code",
   "execution_count": 117,
   "id": "37e3afa5",
   "metadata": {},
   "outputs": [],
   "source": [
    "class VoteClassifier(ClassifierI):\n",
    "    def __init__(self, *classifiers):\n",
    "        self._classifiers = classifiers\n",
    "\n",
    "    def classify(self, features):\n",
    "        votes = []\n",
    "        for classification in self._classifiers:\n",
    "            vote = classification.classify(features)\n",
    "            votes.append(vote)\n",
    "        return mode(votes)\n",
    "\n",
    "    def confidence(self, features):\n",
    "        votes = []\n",
    "        for classification in self._classifiers:\n",
    "            vote = classification.classify(features)\n",
    "            votes.append(vote)\n",
    "\n",
    "        choice_votes = votes.count(mode(votes))\n",
    "        conf = choice_votes / len(votes)\n",
    "        return conf"
   ]
  },
  {
   "cell_type": "code",
   "execution_count": 118,
   "id": "beb8efc4",
   "metadata": {},
   "outputs": [
    {
     "name": "stdout",
     "output_type": "stream",
     "text": [
      "Voted_classifier accuracy percent: 73.68421052631578\n",
      "Classification: Üçgen\n",
      "Confidence %: 100.0\n"
     ]
    }
   ],
   "source": [
    "voted_classifier = VoteClassifier(NBclassifier,MNB_classifier,BernoulliNB_classifier,LogisticRegression_classifier,SGDClassifier_classifier,LinearSVC_classifier)\n",
    "print(\"Voted_classifier accuracy percent:\", (nltk.classify.accuracy(voted_classifier, testing_set))*100)\n",
    "\n",
    "ex_data = \"üçgen\"\n",
    "\n",
    "print(f\"Classification: {voted_classifier.classify(find_features(ex_data))}\")\n",
    "print(f\"Confidence %: {voted_classifier.confidence(find_features(ex_data))*100}\")\n"
   ]
  }
 ],
 "metadata": {
  "kernelspec": {
   "display_name": "base",
   "language": "python",
   "name": "python3"
  },
  "language_info": {
   "codemirror_mode": {
    "name": "ipython",
    "version": 3
   },
   "file_extension": ".py",
   "mimetype": "text/x-python",
   "name": "python",
   "nbconvert_exporter": "python",
   "pygments_lexer": "ipython3",
   "version": "3.11.5"
  }
 },
 "nbformat": 4,
 "nbformat_minor": 5
}
