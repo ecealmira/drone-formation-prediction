{
 "cells": [
  {
   "cell_type": "code",
   "execution_count": 2,
   "id": "9d0f5ed2",
   "metadata": {},
   "outputs": [],
   "source": [
    "import nltk\n",
    "import pandas as pd\n",
    "from nltk.corpus import stopwords\n",
    "import random\n",
    "import pickle\n",
    "from nltk.tokenize import word_tokenize\n",
    "from nltk.classify.scikitlearn import SklearnClassifier\n",
    "from sklearn.naive_bayes import MultinomialNB, BernoulliNB\n",
    "from sklearn.linear_model import LogisticRegression, SGDClassifier\n",
    "from sklearn.svm import LinearSVC, NuSVC\n",
    "from nltk.classify import ClassifierI\n",
    "from statistics import mode\n",
    "import re"
   ]
  },
  {
   "cell_type": "code",
   "execution_count": 3,
   "id": "a04854bd",
   "metadata": {},
   "outputs": [
    {
     "name": "stdout",
     "output_type": "stream",
     "text": [
      "Çizgi\n",
      "Çizgi\n",
      "Çizgi\n",
      "Çizgi\n",
      "V\n",
      "V\n",
      "V\n",
      "V\n",
      "Ok başı\n",
      "Ok başı\n",
      "Ok başı\n",
      "Ok başı\n",
      "Üçgen\n",
      "Üçgen\n",
      "Üçgen\n",
      "Üçgen\n",
      "voleybol\n",
      "voleybol\n",
      "voleybol\n",
      "voleybol\n",
      "voleybol\n",
      "['Çizgi formasyonunu yap', 'çizgi formasyonu oluştur', \"İHA'ları kullanarak bir çizgi çiz.\", 'Bir çizgi çiz', 'Cizgi ciz.', 'Çizgi oluştur', 'Dronların çizgi üzerinde gitmesini istiyorum', 'dronelarla bir çizgi üzerinde hat oluştururu musun', '2 noktayı birleştiren geometrik şekili andıran bir formasyon oluştur ', 'çizgi ol', 'Çizgi formasyonu oluştur', 'Düz bir çizgi çizer misin?', 'çiz çizgiyi', 'Çizgi çiz', 'Çizgi olun', 'Çizgi şeklinde hat oluştur ', 'Hat oluştur ', 'Bir sıra oluşturun lütfen.', 'Lütfen düz bir çizgi çizer misin', 'Hizaya geç', 'dronelar düz çizgi oluştursun', 'çizgi formasyon oluştur doğruca', 'çizgi formasyonunu oluştur', 'çizgi haline geç', 'Dronelar çizgi çizsin', 'Dronelar çizgi formasyonu oluştursunlar', 'Dumduz cizgi seklinde ilerler', 'Çizgi çiz', 'çizgi formasyonu', 'Sürüye çizgi çizdirmesini sağla.', 'Bir çizgi oluştur.', 'Dronelar ile cizgi seklinde formasyon ciz.', 'Çizgi hattında  dizil', 'Dronlar tek çizgi olarak uçsun', 'keşkem dronelaerla doğrusal hat çizilse', 'Tek hizaya geç', 'çizgi yapılsın', 'Doğru şeklini yap.', 'Açısız düzgün bir çizgi istiyorum.', 'çizgiyi çizebilir misin', 'Çizgi formasyonu oluştur', 'Çizgiye geçin', 'Sıraya geç ', 'Çizgi ciz', 'Doğrusal çizgi çizin', 'Düz bir çizgi çiz', 'Çizgi formasyonuna geç', 'sürü çizgi çizsin', 'linear şekilde çizgi formasyon oluşturur musun', 'çizgi şeklini meydana getir', 'bir çizgi oluşturur musun', 'İhalar duz çizgi oluştursun', 'Dronelar tek sıra halinde hizalansınlar', 'Düz bir sekilde siralan ve ilerle ', 'Çizgi oluştur', 'sürü çizgi formasyonu oluştursun', 'Tüm dronları kullanarak düz bir hat çiz', 'Bir çizgi yarat.', 'Dronelar ile cizgi cek.', 'Dronları çizgi şeklinde dizilir mi', 'Hat üzerinde uçun', 'tanrıdan tek dileğim droneların bir doğru üzerinde yerleşip hat oluşturması', 'Düz form oluştur', 'çizgi yapılır mı', 'Line oluştur.', \"Bir noktadan bir noktaya dümdüz bir çizgi çek, o çizgi üzerine drone'ları yerleştir.\", 'Drone lari düzgün bir çizgi üzerinde hareket ettir ', 'Dronelar çizdiğin çizgide hizalansın', 'Çizgi formasyonu yapın', 'Hatta yerleş', 'Dronlar doğru olustursun', 'Düz hat formasyonuna dizilin', 'Çizgi şekline geç', 'Çizgi ol', 'sürü doğru oluştursun', 'komut: doğru şekilde çizgi formasyon oluştur !', 'çizgiyi oluştur', 'doğru boyunca dizil', 'Düz çizgi çiz', 'Dronelar aynı doğru üzerine sıralansınlar', 'Dronelar cizgi cizsin', 'Çizgi yapıver', 'dronelar çizgi formasyonu yaparsa oldukça müteşekkir olurum', 'Aga dümdüz bi şekil yap bana', 'Bır hat olustur', 'Cabuk cizgi formasyonunu ciz.', 'Droneları çizgi hattında göster', 'Hattı takip et', 'dronelar ilk hedefiniz bir doğru üzerinde yerleşip hat oluşturmak İLERİ', 'Bütün bileşenlerin çizgiyle birbiriyle birleştirildiğinde köşe olmasın ', 'çizgi gelir mi', 'Kardeş çizgi çek', \"Drone'ları düz çizgi üzerine sırayla koy.\", 'çizgi algoritmasında drone ları uçur', 'Dronelar aynı çizgi hattında dursun', 'Çizgi ol çizgi', 'Az git uz git dere tepe düz git', 'Dronlar safları sıklaştırsın', 'Sıra oluştur asker', 'Çizgi şeklinde bir hat oluştur', 'Düz durun', 'dronelar sadece 1 kenarı olan ve açısı her yerde sabit olan bir şekil oluştursun', '0 hata payıyla drone ların uçması için çizgi algoritmasını uygula ', 'canımın içi şu çizgiyi çiziver be ', 'doğru şekline geç', 'Düz çizgi çizin ', 'Sıraya girin lan', 'Cizgi çiz', 'V çiz', 'V çiz', 'v', 'V şekli yarat', 'V formunu olustur.', 'V oluştur ', 'V şeklinde uçun', 'V çizin dronelar lütfen', 'Kuşların göç ederkenki özel dizilimine bürünün', 'v istiyorum', 'v formayonunu yap', \"Drone'ları V şeklinin üzerine koyar mısınn\", 'v çizgisi çizmeye lütfeder misin', 'V şeklini çiz', 'V yapın', 'V şeklini oluştur ', 'Dronlar V formasyonunu gerçekleştirsin', 'Aşağıya doğru ok çizin', 'V formasyonunu uygula', 'Vadinin v’si formasyonuna geç', 'v yap', 'V formasyonu , drone , uçmak oluşturmak ', 'v formasyonunu oluştur', 'v şeklininde dizil', 'V çiz', 'Tüm dronelar v formasyonundaki yerini alsın', 'V seklini olustur ', 'V formasyonu oluştur', 'sürü V formasyonu oluştursun', 'V çiz', 'V harfini oluştur.', 'Dronelar ile V formasyonu yap', 'V hattında dizil', 'V uçuşa gilsin', 'V çiz', 'V ol', 'v ol', 'İhalar ile v formayonu oluştur.', 'V harfi şeklinde dursun dronelar, emrediyorum', 'sana zahmet bir v çizgisinde drone lari hareket ettir ', 'V formastonunu oluşturmalısın', 'V formasyonuna geçin', 'V şeklinde sıralan', 'V çizsin dronlar', 'Üçgen formasyonunu uygula', 'V şeklini al', 'Kuş göç formasyonunu oluştur', 'v formasyonu yap', 'drone lar uçacak, v formasyonu şeklinde, oluştur ', 'v şeklini meydana getir', 'V olacak biçimde konumlanın', 'V formasyonunu oluştur', 'V formasyonu oluşturun', 'V formasyonunu olustur', 'V şekli yap', 'v formasyonu yap', 'elindeki tüm ihalar ile v şeklini oluştur', 'V şekli tasarla.', 'Dronelar ile V formasyonunu gerceklestir.', 'Dronelar V yapsın', 'Uçuşa v devam edin', 'V şeklinde iki doğrudan oluşan hat çizin', 'Doğru değil v sergile ', 'v yapılsın', \"V şeklini drone'ları kullanarak oluştur.\", 'V formasyonunu V harfi şeklinde 3 drone ile yapar mısın', 'dronelar hareket etsin, v çizgisi şeklinde ', 'Droneları V hattının üzerine koy', 'V olun', 'Dronlarla V oluşturacak şekilde dizil', 'V şekli oluşsun ', 'V harfi gibi diziliin', 'V hâline geç', 'V formasyonuna geç', 'sürü v yapsın', 'droneların uçması için v formasyonunu çalıştırmani emrediyorum ', 'v geometrisini oluştur', 'v formuna geç', 'V şeklinde dizilin', 'Dronelar v şeklinde hizalansın', 'V yapisini olustur', 'V şeklini çiziver', 'droneların v oluşturmasını emrediyorum ', 'tüm gücünü ve zekanı kullanarak bir v harfi çiz', 'V yap bakayım', 'formasyon V olustur hemen', 'V yapmanı bekliyorum', 'Hadi v uçuşu yapun', 'ben droneun V şeklinde hat oluşturanını severim', 'Zavallı şeyler arasında dar açı olacak ve tek noktada birleşen 2 doğru ', 'dönerse senindir dönmezse v ol', 'v formasyonu oluştur sana zahmet', 'Misyonun dronelar ile V şekli yapmaktır, sana güveniyorum.', \"v çizgisi operasyonunu tamamla doğrusuyla yanlışıyla bu operasyon yazılım ekibine aittir karar michael'ındır \", 'V yap', 'V yapamayan swarm kaybetmeye mahkumdur, kaybetmeyin', 'Ordan bi V gelir mi', 'V şekli oluştur bakalım hemennnn', 'Üçgen halini al la', 'Bebeğim v şekline geç', 'Ata dersi harf notumun ilk harfi formasyonuna geç', 'v şekli peydah olsun', 'komut benim emrimdir, o v formasyonu çalışacak, çalışacaksın ', 'canım v formasyonunu oluştururmusun', 'v olmanız lazim', 'V yap hemen', 'Güzelim zahmet olmazsa şu v şeklini biz çizer misin', 'V yap kardesim', 'Ok başı yapıver', 'ters v formasyonu yap', 'ters v', 'Ok başı formasyonu çiz.', 'Ok basi cizdir', 'Ok başı yap', 'Ters v uçuşa başlayın', 'ok başı çizer misiniz dornelarla', 'Kuş gagası oluştur', 'ok başı olunsun', \"Ok başı şeklini İHA'ları kullanarak dizayn et.\", 'Rica etsem ok başı şeklinde bir duruş sergiler misin?', 'ok başı , formasyon , gerçekleştir', 'Ok çiz', 'Ok başı formasyonu yapın', 'Ters V şekili oluştur ', 'Dronlar ters V yapsin', 'Ters V formasyonu uygula', 'Ters v formasyonuna geçiş yapar mısın', 'Ters v formasyonunu oluştur', 'ters v çizilsin', 'ters v formasyonunu düzgün çalıştır', 'ok başı formasyonunu oluştur', ' ters v formu şeklinde dizil', 'Ok bası yap', 'Tüm dronelar Ok başı formasyonundaki yerini alsın', 'Ok başı formasyonu olustur ', 'Ok başı şeklini çiziver ', 'ok başı formasyonu yapılsın', 'Sürüyü kullanarak ok başı çiz', 'Ok başı oluştur.', 'Ok basi formasyonunu uygula', 'Ok başı istiyorum', 'Dronlar ok başı uçsun', 'droneların ok başı şeklinde diizlmesini tanrıdan lütuf ediyorum', 'Kalem ucu oluştur ', 'ok başı olun', 'Ok başı formasyonu oluştur.', 'Konumları ok başına benzeyecek şekilde drone koy.', 'gerçekleştirebilir misin ok başi formasyonunu', 'Ok şeklini oluştur', 'Ok şekline girin', 'Ok başı şekli oluştur ', 'Ok başı formasyonu gerçekleşsin ', 'Ok ol', 'Ters v şeklini alır mısın lütfen', 'Ok başı formasyonuna geç ', 'dronelar ters v yapsın', 'ok başi formasyonunu drone lar için yapabilir misin ', 'ters v geometrisini oluştur', 'ok başı şekli alacak biçimde dizilin', 'Ok başı şekline geç', 'Tüm dronelar ters v formasyonundaki belirlenmiş yerine geçsin', 'Ters v seklini olustur', 'Ok başı şekline bürün', 'ters v formasyonu oluşturulsun', \"İHA'larla ters v ok başı çiz\", 'Ok başına şekli yap.', 'Ok basi formunda sekil ciz.', 'Ok başı dizil', 'Ok başı uçuşa geçin', 'bugünkü isteğim ok başı şeklinde dizilen dronelar', 'Sivri bir yapı oluştur ', 'ok başı yapılacaktı', 'Ters V formasyonunu oluşturur musun', 'Ok başı yap.', 'sana ters v formasyonunu çizmeni uygun gördüm', 'Ok başı yap', 'Ok olun', \"V'yi ters olacak şekilde oluştur\", 'Dronlar ok başı olsun', 'V formasyonunun ters halini al', 'OK başına geçer misin', 'Oka geç', 'sürü ters v çizsin', '3 drone u ok başı formasyonuyla uçur ', 'ok başı diğer adıyla ters v formasyonunu çiz', 'ok ucu formuna geç', 'Ters V şekli yap', 'Ok başı formasyonu oluştur', 'Ok basi gibi v olustur', 'Ok başı ol acele', 'ok başı formasyonu yapmaya ne dersin ', 'Ok attığını düşün ve okun başındaki şekli yap', 'Ok başı yapsana', 'Okun basi formasyonunu ciz lan.', 'Ok başı olsa keşkle', 'Dronlar bize nasıl ok başı uçtuğunuzu gösterin', 'en güzel drone ok başı şeklinde dizilen dronedur', 'Dik büyüktür işareti oluştur ', 'daha ok başı olmadın mı?', 'V nin tersini yap', \"Diriliş Ertuğrul'un okunun başı gibi bir formasyon oluşturasın, tez vakitte\", 'sen ki ters v formasyonunu gerçekleştireceksin', 'Ok başına droneları yerleştir', 'Ok ol ok ol ok ol', 'Bir de ters V gelir mi', 'Dronlar ok gibi olsun ', 'Yukarı bak', 'Cano OK başı formasyonu lütfen', 'Ok ol da kalbime saplan', 'bi ok başı formasyonu patlar mı', 'ok başı formasyonu yaydan çıkacak, çalıştır', 'sana emrediyorum ok başını tut', 'tv formu zamanı', 'Ok gibi bir şekil çiz', 'Ters v formasyonuna geçmeyenin pilini sökerim', 'Ok yap', 'Üçgen olun', 'üç köşeli bir şekil oluştur', 'Üç kenarlı geometrik şekil çiz', 'Üçgen şekli yap', 'ucgen sekli ciz', 'Üçgen hattı oluştur', 'Üçgen uçuş başlasın', 'üçgen şemalinde dizilin dronelar', '3 köşeli cisim oluştur ', 'üçgen göster', 'üçgen oluştur.', 'Üçgen yap.', 'üçgen formasyonunu gerçekleştirme görevini sana veriyorum', 'Üçgen yap ', 'Üçgen formasyonu', 'Üçgen oluştur ', 'Dronlar üçgen şekline gelsin', 'Üçgen formasyonunu uygula', 'Üçgen oluştur', 'Üçgen ol', 'üç köşeli bi şekil çiz', 'üçgen formasyonunu uygula ', 'üçgen çiz bana', 'üçgen forma geçer misiniz', 'Üçgen yap', 'Üçgen formasyonu oluşturulsun', 'Üçgen yap', 'Üçgen haline gelin', 'sürü üçgen formasyonu oluştursun', 'Güzel bir ÜÇGEN çiz', 'Üçgen şekli çiz', 'duzgun ucgen ciz', 'Üçgen yap artık', 'Dronlarla üçgen çiz', 'iç açıları toplamı 180 derece olan şekil gibi dizilsin dronelar', 'İç açıları 180 olan şekil oluştur ', 'üçgen şekline bürün', \"İHA'ları kullanarak üçgen çiz.\", 'Üçgen şeklinde bir formasyon oluşturabilir misin?', 'görevin üçgen formasyonu, gerçekleştir.', 'Üçgen şeklinin üzerine droneları yerleştir.', 'Üçgen olun', 'Üçgen cizi', 'Üçgen gibi olsun dronlar', 'Üçgen halini al', 'Üçgen ol', 'Üçgen formasyonuna geç', 'üç kenarlı bi şekil oluştur', 'iç açıları toplamı 180⁰ olan şekil formasyonunu uygulayabilir misin ', 'üçgen formasyonunu oluştururmusun', 'üçgen olacak sekilde dizilmelisiniz', 'Üçgen çizerek uç', 'Tüm dronelar üçgen formasyonundaki yerini alsın', 'Üçgen formasyonu oluştur ', 'Üç köşeli şekil oluşturun', 'sürü üçgen şekli çizsin', 'üç köşeli bir şey çiz', 'Üçgen oluştur.', 'ucgen formasyonunu ciz', 'Üçgen şeklinde dizil', 'İhalar üçgen uçsun', '3 doğrunun kapalı bir şekil elde ettiği şekil olan üçgen şeklinde dizil', 'Pizza dilimi oluştur ', 'üçgen haline gel', 'Üçgen formasyonunu oluşturmanı istiyorum.', 'Bana bir üçgen çiziyormuşsun diye duydum.', 'yapacaksın, üçgen formasyonunu', 'Üçgen hattı oluştur', 'Üçgen şekli yapın', 'Üçgen şekli oluştur ', 'Dronlar üçgen benzeri bir şekil yapsinlar', 'Üçgen ol', 'Üçgen dizilimi yapar mısın', 'Bermuda üçgeni formasyonunu gerçekleştir ', 'sürü üçgen yapsın', 'drone lar üçgen şeklinde uçurabilir misin ki ', 'üçken şeklini oluştur', 'üçgen şeklini alın', 'Üçgen çoz acil', 'Dronelar üçgen formasyonunu yapın', 'Üçgen seklini al', 'Üçgen oluşturcak hizaya gelin', 'dronelar üçgen olsun', 'dronelara üçlü çektirmek maksadıyla şekillendir', 'Ucgen cız.', 'Ucgen formasyonunu calistir canim.', 'Üçgen doğrusuna ddönüş', 'İhalar üçgen uçuş gösterin', 'dronelar treeangula yani üçgen dizilin çabuk!!', 'En az kenara sahip çokgen oluştur kölem ', 'iç açıları toplamı 180 derece ,3 kenar 3 köşe şekline gel', 'Üçgen formasyonu oluşturmak gerek.', 'Üçgen diye bi şekil var ya, onun şeklini oluştur.', 'tabi sen benim tarafımdan sana verilen üçgen formasyonunu yerine getireceksin', 'Üçgen yapıver', 'İç açıları toplamı 180° olan geometrik şekli oluşturun', 'Üçgen alalım ', 'Sevgili dronlar üçgen olunuz ', 'Minimum köşeye sahip figüre dönüş', 'Bir zahmet üçgen oluştur', 'İç açıları toplamı 180 olan düzgün geometrik şekil ol', 'üçgen ol', 'haydi gari üçgen formasyonunu çalıştırıver', 'uşağum şu ucgeni oluştür daaa', 'ucgen zamani', 'İç açıları toplamı 180 olan bir şekil yap', 'Derhan üçgen ol', 'Üçgen formasyonu olustur', 'Oynayın voleybol', 'dronelar voleybol oynasın', 'voleybol şovu yap', 'Voleybol şekline geç', 'Voleybol oynattir', 'voleybol oyna ', 'Voleybola başlayın', ' 3 dronun var bir tanesi top 2 tanesi de topa vurur gibi yapmasını ve top bir drondan diğerini gidip geliyor gibi gözükmesini istiyorum', 'El topu oynayın ', 'voleybol haraketi', \"Voleybol formasyonunu oluştur İHA'ları kullanarak \", 'Dronelar voleybol oynasın.', 'şunu gerçekleştir: voleybol formasyonu', 'Voleybol oynar gibi droneları havada harket ettir. ', 'Voleybol oynayan swarm formasyonuna gir', 'Voleybol oyununu taklit et', 'Dronlar voleybol oynasınlar ', 'Voleybol maçı yap', 'Voleybol formasyonuna geçiş yap', 'Dwarf star formasyonuna geç', 'dronelar voleybol oynasın', 'drone lar voleybol formasyonu şeklinde uçsun ', 'valeybol oynarmısınız ', 'biriniz top olsun ikiniz karşılıklı dizilsin', 'Voleybol oyna', 'Dronelar voleybol oynasınlar ', 'Biriniz top olsun digerleri voleybol oynar gibi yapsin', 'Top oyna ', 'voleybol oyna', 'sürü gösterisine başla', 'Voleyboy oyna', 'Dronelar ile voelybol uygula', 'voleybol oynamanı istiyorum', 'İhalar voleybol oynasın', 'voleybol oynayan dronelar istiyorun', 'Birbirinizi birbirinize fırlatın ', 'voleybol oyna', 'Voleybol oyna', '3 drone varmış, biri durmuş, biri karşısına geçmiş, diğeri top olmuş.', 'şunun için sonuç bul : voleybol formasyonu', 'Voleybol topunun harketine benzer hareketle droneları oynat', 'Voleybol animasyonunu gerçekleştir', 'Voleybol oyna', 'Voleybol formasyonu gerceklessin', 'Volleyball gösterisi', 'Voleybol oyna', 'Özel görevi gerçekleştir', 'voleybol oynat', 'top, formasyon, voleybol, uç ', 'volleyball oynarmısınız', 'voleybol formu almalısınız', 'İhalar birbirlerine pas atsınlar', 'Voleybol formasyonuna geçilsin', 'Voleybol formasyonu olustur', 'Voleybolcu olun', 'sürü voleybol oynasın', \"tüm İHA'lar ile voleybol sürü gösterisi yap\", 'Voleybol moduna geç', 'Voleybol formasyonunu ciz', 'voleybol oyununa dönüş ', 'Dronlar voleybol maçına başlasın', 'voleybol oynar mısınız dorencuklar', 'Birbirinizi toplayın', 'top oyna', \"İHA'ları top yap voleybol oyna\", 'Voleybol oynayan dronelar gerçek değildir, aksini kanıtla.', 'düzgünce gerçeklestir voleybol formasyonu', 'Dronelara voleybol oynat', 'Voleybol oynayın', 'Voleybol oyununu oyna ', 'Dronlar özgün kategori görevini yapsın ', 'Voleybol yapsana', 'Voleybol maçı başlasın', 'Show time', 'voleybol formasyonu yapılsın', 'voleybol oynayan drone lar yap', 'voleybol formasyonunu gerçekleştirin', ' voleybola hazır hale geçin', 'Voleybol oynayın', 'Dronelar Voleybol formasyonundaki görevlerini yapsınlar', 'Voleybol görüntüsü verin', 'Voleybol formasyonunu gerçekleştirmeniz gerekiyor', 'sürüye voleybol oynat', 'voleybol oyuncularını taklit edecek şekilde voleybol oyna', 'Voleybol maçı yapın', 'Voleybol turnuvasi formunu uygula', 'Voleybol izleyebilir miyim', 'Dronlar voleybol maçı için yerlerini alsın', 'voleybol oynayan dronelar istirham ediyorum', 'Smaç vur', 'top oyunu oyna', 'Voleybol formasyonunu oluştur', 'Sana 3 drone veriyorum, onları voleybol oynamaya ikna et.', 'voleybol formasyonunu düzgünce yapabilir misin ', 'Dronea voleybol topunun güzergahını taklit ettir', 'Voleybol oynarmış gibi yapın, bir drone top olsun.', 'Voleybol oyunu şeklinde hareket et', 'Dron top olsun ve voleybol oynasinlar', 'Havada top oyna', 'Voleybol formasyonunu uygula', 'Voleybol formasyonuna geç', 'dronelar gösteri yapsın', 'Drone ların voleybol formasyonunda uçmasını sağla', 'bir dronun top yerine geçtiği voleybol oyununu oynayın', 'maç için konumlanın', 'Voleybol oynayan formasyon yap', 'Voleybol formasyonu başlatılsın', 'Voleybol oyna', 'Voleybol oynamanızı istirham ediyorum', 'hadi voleybol oynayalım', 'SPOR yapmak istiyorrm. bana örnek ol!', 'Voleybol oynayin.', 'Voleybol sampiyonasi formasyonunu uygula.', 'Canım sıkıldı voleybol izlemek istiyorum', 'Bize güzel bi maç izletin ihalar', 'keşke dronelar Vakıfbank fatma gibi voleybol oynasa', 'Futbol oynayın ', 'voleybol şovu yap ', 'Hadi voleybol oynayalım birlikte', 'Voleybol oynayan dronelar da vardır, görebilir miyim?', 'ilk adimi servis olan spor dalının formasyonunu yap', 'Dronelar voleybol topu gibi ilerlesin', 'Eda Erdem ve Vargas gibi voleybol oynayın', 'Ne bakıyon kardeş oyna', 'Özel bir formasyon istiyom ismi voleyboldur', '2 İHA diğerini döver gibi yapsın', 'Beraber voleybol oynayalım mı', 'Aranızda oynayıverin', 'dronelar voleybol oynamak yapsın', \"eda erdem in oynadığı spor' formasyonunu çalıştır \", 'valleybol oynayınıverin', 'toplanın maç zamanı', 'Voleybol oynamanız lazım acil', 'Hadi boleybol oynayalım çocuklar', 'Voleybol oynar gibi hareket et']\n"
     ]
    },
    {
     "data": {
      "text/html": [
       "<div>\n",
       "<style scoped>\n",
       "    .dataframe tbody tr th:only-of-type {\n",
       "        vertical-align: middle;\n",
       "    }\n",
       "\n",
       "    .dataframe tbody tr th {\n",
       "        vertical-align: top;\n",
       "    }\n",
       "\n",
       "    .dataframe thead th {\n",
       "        text-align: right;\n",
       "    }\n",
       "</style>\n",
       "<table border=\"1\" class=\"dataframe\">\n",
       "  <thead>\n",
       "    <tr style=\"text-align: right;\">\n",
       "      <th></th>\n",
       "      <th>Text</th>\n",
       "      <th>Label</th>\n",
       "    </tr>\n",
       "  </thead>\n",
       "  <tbody>\n",
       "    <tr>\n",
       "      <th>0</th>\n",
       "      <td>Çizgi formasyonunu yap</td>\n",
       "      <td>Çizgi</td>\n",
       "    </tr>\n",
       "    <tr>\n",
       "      <th>1</th>\n",
       "      <td>çizgi formasyonu oluştur</td>\n",
       "      <td>Çizgi</td>\n",
       "    </tr>\n",
       "    <tr>\n",
       "      <th>2</th>\n",
       "      <td>İHA'ları kullanarak bir çizgi çiz.</td>\n",
       "      <td>Çizgi</td>\n",
       "    </tr>\n",
       "    <tr>\n",
       "      <th>3</th>\n",
       "      <td>Bir çizgi çiz</td>\n",
       "      <td>Çizgi</td>\n",
       "    </tr>\n",
       "    <tr>\n",
       "      <th>4</th>\n",
       "      <td>Cizgi ciz.</td>\n",
       "      <td>Çizgi</td>\n",
       "    </tr>\n",
       "    <tr>\n",
       "      <th>...</th>\n",
       "      <td>...</td>\n",
       "      <td>...</td>\n",
       "    </tr>\n",
       "    <tr>\n",
       "      <th>562</th>\n",
       "      <td>valleybol oynayınıverin</td>\n",
       "      <td>voleybol</td>\n",
       "    </tr>\n",
       "    <tr>\n",
       "      <th>563</th>\n",
       "      <td>toplanın maç zamanı</td>\n",
       "      <td>voleybol</td>\n",
       "    </tr>\n",
       "    <tr>\n",
       "      <th>564</th>\n",
       "      <td>Voleybol oynamanız lazım acil</td>\n",
       "      <td>voleybol</td>\n",
       "    </tr>\n",
       "    <tr>\n",
       "      <th>565</th>\n",
       "      <td>Hadi boleybol oynayalım çocuklar</td>\n",
       "      <td>voleybol</td>\n",
       "    </tr>\n",
       "    <tr>\n",
       "      <th>566</th>\n",
       "      <td>Voleybol oynar gibi hareket et</td>\n",
       "      <td>voleybol</td>\n",
       "    </tr>\n",
       "  </tbody>\n",
       "</table>\n",
       "<p>567 rows × 2 columns</p>\n",
       "</div>"
      ],
      "text/plain": [
       "                                   Text     Label\n",
       "0                Çizgi formasyonunu yap     Çizgi\n",
       "1              çizgi formasyonu oluştur     Çizgi\n",
       "2    İHA'ları kullanarak bir çizgi çiz.     Çizgi\n",
       "3                         Bir çizgi çiz     Çizgi\n",
       "4                            Cizgi ciz.     Çizgi\n",
       "..                                  ...       ...\n",
       "562             valleybol oynayınıverin  voleybol\n",
       "563                 toplanın maç zamanı  voleybol\n",
       "564       Voleybol oynamanız lazım acil  voleybol\n",
       "565    Hadi boleybol oynayalım çocuklar  voleybol\n",
       "566      Voleybol oynar gibi hareket et  voleybol\n",
       "\n",
       "[567 rows x 2 columns]"
      ]
     },
     "execution_count": 3,
     "metadata": {},
     "output_type": "execute_result"
    }
   ],
   "source": [
    "df = pd.read_excel('formasyon_veri_yanitlari.xlsx')\n",
    "df = df.drop(df.columns[[0,1]], axis=1)\n",
    "\n",
    "text_label_list = []\n",
    "sentences = []\n",
    "for column in df.columns:\n",
    "    label = column.split('-')[0]\n",
    "    print(label)\n",
    "    \n",
    "    for sentence in df[column]:\n",
    "        sentences.append(sentence)\n",
    "        text_label_list.append((sentence, label))   \n",
    "        \n",
    "print(sentences)\n",
    "\n",
    "text_label_df = pd.DataFrame(text_label_list, columns =['Text', 'Label'])\n",
    "text_label_df"
   ]
  },
  {
   "cell_type": "code",
   "execution_count": 106,
   "id": "3920c178",
   "metadata": {},
   "outputs": [],
   "source": [
    "random.shuffle(sentences)\n",
    "\n",
    "all_words = []\n",
    "for sentence in sentences:\n",
    "    words = nltk.word_tokenize(sentence)\n",
    "    for word in words:\n",
    "        if word.isalpha():\n",
    "            all_words.append(word.lower())"
   ]
  },
  {
   "cell_type": "code",
   "execution_count": 107,
   "id": "ba611c17",
   "metadata": {},
   "outputs": [],
   "source": [
    "stop_words = set(stopwords.words(\"turkish\"))\n",
    "filter_sentence = []\n",
    "\n",
    "for word in all_words:\n",
    "    if word not in stop_words:\n",
    "        filter_sentence.append(word)\n",
    "        \n",
    "all_words = filter_sentence"
   ]
  },
  {
   "cell_type": "code",
   "execution_count": 108,
   "id": "26fa23ee",
   "metadata": {},
   "outputs": [
    {
     "name": "stdout",
     "output_type": "stream",
     "text": [
      "Most common 15 words:\n",
      "v: 131\n",
      "voleybol: 97\n",
      "üçgen: 83\n",
      "ok: 75\n",
      "çizgi: 64\n",
      "oluştur: 64\n",
      "başı: 49\n",
      "formasyonunu: 48\n",
      "formasyonu: 47\n",
      "dronelar: 46\n",
      "bir: 43\n",
      "yap: 39\n",
      "çiz: 30\n",
      "ters: 28\n",
      "şeklinde: 24\n",
      "\n",
      "Number of times cizgi is used:7\n",
      "Number of times çizgi is used:64\n"
     ]
    }
   ],
   "source": [
    "all_words_dist = nltk.FreqDist(all_words)\n",
    "most_common_words = '\\n'.join([f\"{word}: {freq}\" for word, freq in all_words_dist.most_common(15)])\n",
    "print(f\"Most common 15 words:\\n{most_common_words}\\n\")\n",
    "\n",
    "print(f\"Number of times cizgi is used:{all_words_dist['cizgi']}\")\n",
    "print(f\"Number of times çizgi is used:{all_words_dist['çizgi']}\")"
   ]
  },
  {
   "cell_type": "code",
   "execution_count": 109,
   "id": "869313f7",
   "metadata": {},
   "outputs": [],
   "source": [
    "word_features = list(all_words_dist.keys())[:200]\n",
    "\n",
    "def find_features(document):\n",
    "    words = set(nltk.word_tokenize(document.lower()))\n",
    "    features = {}\n",
    "    for w in word_features:\n",
    "        features[w] = (w in words)\n",
    "    return features\n",
    "\n",
    "\n",
    "feature_sets = [(find_features(text), label) for (text, label) in text_label_list]\n",
    "\n",
    "train_size = int(0.8 * len(feature_sets))  # 80% \n",
    "training_set = feature_sets[:train_size]\n",
    "testing_set = feature_sets[train_size:]\n"
   ]
  },
  {
   "cell_type": "code",
   "execution_count": 110,
   "id": "f8533c91",
   "metadata": {},
   "outputs": [
    {
     "name": "stdout",
     "output_type": "stream",
     "text": [
      "Naive Bayes Algorithm accuracy percent: 72.80701754385966\n",
      "Most Informative Features\n",
      "                      ok = True           Ok baş : V      =     48.3 : 1.0\n",
      "                   üçgen = True            Üçgen : V      =     32.6 : 1.0\n",
      "                       v = False           Çizgi : V      =     14.5 : 1.0\n",
      "            formasyonuna = True           voleyb : Üçgen  =     11.6 : 1.0\n",
      "                   şekil = True            Üçgen : Ok baş =      9.0 : 1.0\n",
      "                     geç = True           voleyb : Üçgen  =      8.3 : 1.0\n",
      "                     bir = True            Çizgi : V      =      8.2 : 1.0\n",
      "                     yap = True           voleyb : Çizgi  =      5.0 : 1.0\n",
      "                      et = True           voleyb : Çizgi  =      5.0 : 1.0\n",
      "            gerçekleştir = True           voleyb : Ok baş =      5.0 : 1.0\n",
      "                   geçiş = True           voleyb : Ok baş =      5.0 : 1.0\n",
      "               istiyorum = True           voleyb : Üçgen  =      5.0 : 1.0\n",
      "              kullanarak = True           voleyb : Üçgen  =      5.0 : 1.0\n",
      "                   swarm = True           voleyb : V      =      5.0 : 1.0\n",
      "                     var = True           voleyb : Üçgen  =      5.0 : 1.0\n"
     ]
    }
   ],
   "source": [
    "NBclassifier = nltk.NaiveBayesClassifier.train(training_set)\n",
    "\n",
    "print(\"Naive Bayes Algorithm accuracy percent:\", (nltk.classify.accuracy(NBclassifier, testing_set))*100)\n",
    "NBclassifier.show_most_informative_features(15)"
   ]
  },
  {
   "cell_type": "code",
   "execution_count": 111,
   "id": "5e815be1",
   "metadata": {},
   "outputs": [
    {
     "name": "stdout",
     "output_type": "stream",
     "text": [
      "MNB Classifier accuracy percent: 72.80701754385966\n"
     ]
    }
   ],
   "source": [
    "MNB_classifier = SklearnClassifier(MultinomialNB())\n",
    "MNB_classifier.train(training_set)\n",
    "print(\"MNB Classifier accuracy percent:\", (nltk.classify.accuracy(MNB_classifier, testing_set))*100)"
   ]
  },
  {
   "cell_type": "code",
   "execution_count": 112,
   "id": "82dd8bde",
   "metadata": {},
   "outputs": [
    {
     "name": "stdout",
     "output_type": "stream",
     "text": [
      "BernoulliNB Classifier accuracy percent: 19.298245614035086\n"
     ]
    }
   ],
   "source": [
    "BernoulliNB_classifier = SklearnClassifier(BernoulliNB())\n",
    "BernoulliNB_classifier.train(training_set)\n",
    "print(\"BernoulliNB Classifier accuracy percent:\", (nltk.classify.accuracy(BernoulliNB_classifier, testing_set))*100)"
   ]
  },
  {
   "cell_type": "code",
   "execution_count": 120,
   "id": "3911dbb2",
   "metadata": {},
   "outputs": [
    {
     "name": "stdout",
     "output_type": "stream",
     "text": [
      "SGDClassifier_classifier accuracy percent: 75.43859649122807\n"
     ]
    }
   ],
   "source": [
    "SGDClassifier_classifier = SklearnClassifier(SGDClassifier())\n",
    "SGDClassifier_classifier.train(training_set)\n",
    "print(\"SGDClassifier_classifier accuracy percent:\", (nltk.classify.accuracy(SGDClassifier_classifier, testing_set))*100)"
   ]
  },
  {
   "cell_type": "code",
   "execution_count": 114,
   "id": "26fb259e",
   "metadata": {},
   "outputs": [],
   "source": [
    "save_classifier = open(\"prediction_pickle/SGDC_classifier.pickle\",\"wb\")\n",
    "pickle.dump(SGDClassifier_classifier, save_classifier)\n",
    "save_classifier.close()"
   ]
  },
  {
   "cell_type": "code",
   "execution_count": 115,
   "id": "6dd3783d",
   "metadata": {},
   "outputs": [
    {
     "name": "stdout",
     "output_type": "stream",
     "text": [
      "LogisticRegression_classifier accuracy percent: 69.2982456140351\n"
     ]
    }
   ],
   "source": [
    "LogisticRegression_classifier = SklearnClassifier(LogisticRegression())\n",
    "LogisticRegression_classifier.train(training_set)\n",
    "print(\"LogisticRegression_classifier accuracy percent:\", (nltk.classify.accuracy(LogisticRegression_classifier, testing_set))*100)"
   ]
  },
  {
   "cell_type": "code",
   "execution_count": 116,
   "id": "d58b8c7e",
   "metadata": {},
   "outputs": [
    {
     "name": "stdout",
     "output_type": "stream",
     "text": [
      "LinearSVC_classifier accuracy percent: 74.56140350877193\n"
     ]
    }
   ],
   "source": [
    "LinearSVC_classifier = SklearnClassifier(LinearSVC(dual=True))\n",
    "LinearSVC_classifier.train(training_set)\n",
    "print(\"LinearSVC_classifier accuracy percent:\", (nltk.classify.accuracy(LinearSVC_classifier, testing_set))*100)"
   ]
  },
  {
   "cell_type": "code",
   "execution_count": 117,
   "id": "37e3afa5",
   "metadata": {},
   "outputs": [],
   "source": [
    "class VoteClassifier(ClassifierI):\n",
    "    def __init__(self, *classifiers):\n",
    "        self._classifiers = classifiers\n",
    "\n",
    "    def classify(self, features):\n",
    "        votes = []\n",
    "        for classification in self._classifiers:\n",
    "            vote = classification.classify(features)\n",
    "            votes.append(vote)\n",
    "        return mode(votes)\n",
    "\n",
    "    def confidence(self, features):\n",
    "        votes = []\n",
    "        for classification in self._classifiers:\n",
    "            vote = classification.classify(features)\n",
    "            votes.append(vote)\n",
    "\n",
    "        choice_votes = votes.count(mode(votes))\n",
    "        conf = choice_votes / len(votes)\n",
    "        return conf"
   ]
  },
  {
   "cell_type": "code",
   "execution_count": 118,
   "id": "beb8efc4",
   "metadata": {},
   "outputs": [
    {
     "name": "stdout",
     "output_type": "stream",
     "text": [
      "Voted_classifier accuracy percent: 73.68421052631578\n",
      "Classification: Üçgen\n",
      "Confidence %: 100.0\n"
     ]
    }
   ],
   "source": [
    "voted_classifier = VoteClassifier(NBclassifier,MNB_classifier,BernoulliNB_classifier,LogisticRegression_classifier,SGDClassifier_classifier,LinearSVC_classifier)\n",
    "print(\"Voted_classifier accuracy percent:\", (nltk.classify.accuracy(voted_classifier, testing_set))*100)\n",
    "\n",
    "ex_data = \"üçgen\"\n",
    "\n",
    "print(f\"Classification: {voted_classifier.classify(find_features(ex_data))}\")\n",
    "print(f\"Confidence %: {voted_classifier.confidence(find_features(ex_data))*100}\")\n"
   ]
  }
 ],
 "metadata": {
  "kernelspec": {
   "display_name": "Python 3 (ipykernel)",
   "language": "python",
   "name": "python3"
  },
  "language_info": {
   "codemirror_mode": {
    "name": "ipython",
    "version": 3
   },
   "file_extension": ".py",
   "mimetype": "text/x-python",
   "name": "python",
   "nbconvert_exporter": "python",
   "pygments_lexer": "ipython3",
   "version": "3.11.5"
  }
 },
 "nbformat": 4,
 "nbformat_minor": 5
}
